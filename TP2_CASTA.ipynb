{
 "cells": [
  {
   "cell_type": "markdown",
   "id": "64b16769",
   "metadata": {},
   "source": [
    "# TP2 SDTSIA211 - Digit recognition\n",
    "Gwendal CASTA"
   ]
  },
  {
   "cell_type": "code",
   "execution_count": 1,
   "id": "149938de",
   "metadata": {},
   "outputs": [],
   "source": [
    "import numpy as np\n",
    "import tensorflow as tf\n",
    "from tensorflow import keras\n",
    "from tensorflow.keras import layers\n",
    "import matplotlib.pyplot as plt\n",
    "from tqdm import tqdm"
   ]
  },
  {
   "cell_type": "code",
   "execution_count": 2,
   "id": "773c1396",
   "metadata": {},
   "outputs": [
    {
     "name": "stdout",
     "output_type": "stream",
     "text": [
      "5\n"
     ]
    },
    {
     "data": {
      "text/plain": [
       "<matplotlib.image.AxesImage at 0x28d1f1210>"
      ]
     },
     "execution_count": 2,
     "metadata": {},
     "output_type": "execute_result"
    },
    {
     "data": {
      "image/png": "[encoded data removed]",
      "text/plain": [
       "<Figure size 640x480 with 1 Axes>"
      ]
     },
     "metadata": {},
     "output_type": "display_data"
    }
   ],
   "source": [
    "train_data, test_data = tf.keras.datasets.mnist.load_data(path=\"mnist.npz\")\n",
    "x_train = train_data[0].reshape(-1, 784).astype(float) / 255\n",
    "y_train = train_data[1]\n",
    "print(y_train[0])\n",
    "plt.imshow(train_data[0][0], cmap='gray')"
   ]
  },
  {
   "cell_type": "code",
   "execution_count": 3,
   "id": "4b521b78",
   "metadata": {},
   "outputs": [
    {
     "name": "stdout",
     "output_type": "stream",
     "text": [
      "Model: \"mnist_model\"\n",
      "_________________________________________________________________\n",
      " Layer (type)                Output Shape              Param #   \n",
      "=================================================================\n",
      " digits (InputLayer)         [(None, 784)]             0         \n",
      "                                                                 \n",
      " dense_1 (Dense)             (None, 32)                25120     \n",
      "                                                                 \n",
      " dense_2 (Dense)             (None, 32)                1056      \n",
      "                                                                 \n",
      " predictions (Dense)         (None, 10)                330       \n",
      "                                                                 \n",
      "=================================================================\n",
      "Total params: 26506 (103.54 KB)\n",
      "Trainable params: 26506 (103.54 KB)\n",
      "Non-trainable params: 0 (0.00 Byte)\n",
      "_________________________________________________________________\n"
     ]
    }
   ],
   "source": [
    "# source: https://keras.io/guides/training_with_built_in_methods/\n",
    "\n",
    "inputs = keras.Input(shape=(784,), name=\"digits\")\n",
    "x = layers.Dense(32, activation=\"relu\", name=\"dense_1\")(inputs)\n",
    "x = layers.Dense(32, activation=\"relu\", name=\"dense_2\")(x)\n",
    "outputs = layers.Dense(10, activation=None, name=\"predictions\")(x)\n",
    "model = keras.Model(inputs=inputs, outputs=outputs, name=\"mnist_model\")\n",
    "loss = keras.losses.SparseCategoricalCrossentropy(from_logits=True)\n",
    "\n",
    "\n",
    "# def loss(true, pred):\n",
    "#    val = 0.\n",
    "#    for i in range(len(true)):\n",
    "#        val -= np.log(pred[i, true[i]])\n",
    "#    return val / len(true)\n",
    "\n",
    "\n",
    "model.summary()"
   ]
  },
  {
   "cell_type": "code",
   "execution_count": 4,
   "id": "b18b6bdb",
   "metadata": {},
   "outputs": [
    {
     "data": {
      "text/plain": [
       "array([2, 0, 0, 4, 0, 0, 5, 0, 5, 5, 5, 8, 5, 3, 5, 5, 1, 3, 1, 3, 0, 5,\n",
       "       4, 4, 0, 8, 5, 5, 8, 3, 5, 0, 2, 2, 6, 5, 5, 0, 1, 5, 4, 8, 0, 4,\n",
       "       2, 8, 7, 8, 5, 5, 7, 0, 5, 2, 5, 3, 0, 5, 0, 4, 5, 5, 7, 5, 7, 7,\n",
       "       5, 4, 1, 5, 8, 2, 4, 3, 5, 5, 1, 4, 4, 3, 8, 5, 1, 3, 9, 5, 5, 5,\n",
       "       8, 5, 0, 5, 0, 0, 2, 8, 8, 3, 4, 4])"
      ]
     },
     "execution_count": 4,
     "metadata": {},
     "output_type": "execute_result"
    }
   ],
   "source": [
    "# untrained model\n",
    "logits = model(x_train)\n",
    "np.argmax(logits, 1)[0:100]"
   ]
  },
  {
   "cell_type": "code",
   "execution_count": 5,
   "id": "35d74f67",
   "metadata": {},
   "outputs": [
    {
     "data": {
      "text/plain": [
       "array([5, 0, 4, 1, 9, 2, 1, 3, 1, 4, 3, 5, 3, 6, 1, 7, 2, 8, 6, 9, 4, 0,\n",
       "       9, 1, 1, 2, 4, 3, 2, 7, 3, 8, 6, 9, 0, 5, 6, 0, 7, 6, 1, 8, 7, 9,\n",
       "       3, 9, 8, 5, 9, 3, 3, 0, 7, 4, 9, 8, 0, 9, 4, 1, 4, 4, 6, 0, 4, 5,\n",
       "       6, 1, 0, 0, 1, 7, 1, 6, 3, 0, 2, 1, 1, 7, 9, 0, 2, 6, 7, 8, 3, 9,\n",
       "       0, 4, 6, 7, 4, 6, 8, 0, 7, 8, 3, 1], dtype=uint8)"
      ]
     },
     "execution_count": 5,
     "metadata": {},
     "output_type": "execute_result"
    }
   ],
   "source": [
    "# what we would like to get\n",
    "y_train[0:100]"
   ]
  },
  {
   "cell_type": "code",
   "execution_count": 6,
   "id": "4c0073e2",
   "metadata": {},
   "outputs": [
    {
     "data": {
      "text/plain": [
       "2.3274875"
      ]
     },
     "execution_count": 6,
     "metadata": {},
     "output_type": "execute_result"
    }
   ],
   "source": [
    "# Computing a stochastic gradient\n",
    "\n",
    "# Source: https://keras.io/guides/writing_a_training_loop_from_scratch/\n",
    "\n",
    "# Example of gradient computation using automatic differentiation\n",
    "\n",
    "x_train_batch = x_train[:8]\n",
    "y_train_batch = y_train[:8]\n",
    "with tf.GradientTape() as tape:\n",
    "    # Run the forward pass of the layer.\n",
    "    # The operations that the layer applies\n",
    "    # to its inputs are going to be recorded\n",
    "    # on the GradientTape.\n",
    "    logits = model(x_train_batch)  # Logits for this minibatch\n",
    "\n",
    "    # Compute the loss value for this minibatch.\n",
    "    loss_value = loss(y_train_batch, logits)\n",
    "\n",
    "# Use the gradient tape to automatically retrieve\n",
    "# the gradients of the trainable variables with respect to the loss.\n",
    "grad = tape.gradient(loss_value, model.trainable_weights)\n",
    "\n",
    "# Updating weights\n",
    "\n",
    "\n",
    "def update_weights(model, update):\n",
    "    new_weights = model.trainable_weights.copy()\n",
    "    for i in range(len(new_weights)):\n",
    "        new_weights[i] = new_weights[i] + update[i]\n",
    "    model.set_weights(new_weights)\n",
    "\n",
    "\n",
    "# Evaluate model\n",
    "samples_for_evaluation = np.random.randint(0, 10000, 1000)\n",
    "logits = model(x_train[samples_for_evaluation])\n",
    "loss(y_train[samples_for_evaluation], logits).numpy()"
   ]
  },
  {
   "cell_type": "markdown",
   "id": "cc693bbf",
   "metadata": {},
   "source": [
    "# Question 4.1\n",
    "We can calculate the number of parameters layer by layer:\n",
    "- We have 784 input neurons and 784 output neurons in the input layer and we have 784 input neurons and 32 output neurons in the first layer $b0$. So, the vector $\\omega_0$ has $784*32$ parameters and the vector $b_0$ has $32$ parameters. The number of parameters is 784*32 + 32 = 25120\n",
    "- We have 32 input neurons and 32 output neurons in the second layer $b1$. So the vector $\\omega_1$ has $32*32$ parameters and the vector $b_1$ has $32$ parameters. The number of parameters is 32*32 + 32 = 1056\n",
    "- We have 32 input neurons and 10 output neurons in the last layer $b_2$. So the vector $\\omega_2$ has $32*10$ parameters and the vector $b_2$ has $10$ parameters. The number of parameters is 32*10 + 10 = 330\n",
    "\n",
    "The total number of parameters is 25120 + 1056 + 330 = 26506"
   ]
  },
  {
   "cell_type": "markdown",
   "id": "30ca4e82",
   "metadata": {},
   "source": [
    "# Question 5.1"
   ]
  },
  {
   "cell_type": "code",
   "execution_count": 7,
   "id": "c5a9ead7",
   "metadata": {
    "scrolled": true
   },
   "outputs": [],
   "source": [
    "def train_model(model, x_train, y_train, loss_fn, epochs, batch_size, learning_rate_init):\n",
    "    global_step = 0\n",
    "    loss_values = []\n",
    "    for epoch in tqdm(range(epochs)):\n",
    "        print(f\"Epoch {epoch+1}/{epochs}\")\n",
    "\n",
    "        indices = np.arange(len(x_train))\n",
    "        np.random.shuffle(indices)\n",
    "        x_train_shuffled = x_train[indices]\n",
    "        y_train_shuffled = y_train[indices]\n",
    "\n",
    "        for i in range(0, len(x_train), batch_size):\n",
    "            x_train_batch = x_train_shuffled[i:i+batch_size]\n",
    "            y_train_batch = y_train_shuffled[i:i+batch_size]\n",
    "\n",
    "            learning_rate_iter = learning_rate_init / np.sqrt(global_step + 1)\n",
    "\n",
    "            with tf.GradientTape() as tape:\n",
    "                logits = model(x_train_batch, training=True)\n",
    "                loss_value = loss_fn(y_train_batch, logits)\n",
    "\n",
    "            grads = tape.gradient(loss_value, model.trainable_variables)\n",
    "\n",
    "            global_step += 1\n",
    "\n",
    "            if global_step % 1000 == 0:\n",
    "                loss_value_all_samples = loss_fn(y_train, model(x_train, training=False))\n",
    "                loss_values.append(loss_value_all_samples)\n",
    "                print(f\"Iteration {global_step}, Loss: {loss_value:.4f}\")\n",
    "\n",
    "            updates = [-learning_rate_iter * grad for grad in grads]\n",
    "            update_weights(model, updates)\n",
    "\n",
    "        plt.plot(loss_values)\n",
    "        plt.title(\"Training loss\")\n",
    "        plt.xlabel(\"Iteration\")\n",
    "        plt.ylabel(\"Loss\")\n",
    "        plt.show()"
   ]
  },
  {
   "cell_type": "markdown",
   "id": "109f65ae",
   "metadata": {},
   "source": [
    "# Question 5.2"
   ]
  },
  {
   "cell_type": "code",
   "execution_count": 8,
   "id": "16641e62",
   "metadata": {},
   "outputs": [
    {
     "name": "stderr",
     "output_type": "stream",
     "text": [
      "  0%|          | 0/1 [00:00<?, ?it/s]"
     ]
    },
    {
     "name": "stdout",
     "output_type": "stream",
     "text": [
      "Epoch 1/1\n",
      "Iteration 1000, Loss: 0.8631\n",
      "Iteration 2000, Loss: 0.7166\n",
      "Iteration 3000, Loss: 0.1583\n",
      "Iteration 4000, Loss: 0.6631\n",
      "Iteration 5000, Loss: 0.2467\n",
      "Iteration 6000, Loss: 0.2381\n",
      "Iteration 7000, Loss: 0.4159\n"
     ]
    },
    {
     "data": {
      "image/png": "[encoded data removed]",
      "text/plain": [
       "<Figure size 640x480 with 1 Axes>"
      ]
     },
     "metadata": {},
     "output_type": "display_data"
    },
    {
     "name": "stderr",
     "output_type": "stream",
     "text": [
      "100%|██████████| 1/1 [00:22<00:00, 22.32s/it]\n"
     ]
    }
   ],
   "source": [
    "initial_learning_rate = 0.1\n",
    "epochs = 1\n",
    "batch_size = 8\n",
    "train_model(model, x_train, y_train, loss, epochs, batch_size, initial_learning_rate)"
   ]
  },
  {
   "cell_type": "markdown",
   "id": "089fdfb6",
   "metadata": {},
   "source": [
    "# Question 6.1"
   ]
  },
  {
   "cell_type": "code",
   "execution_count": 9,
   "id": "7297ccd4",
   "metadata": {},
   "outputs": [],
   "source": [
    "def sgd_train_model(model, x_train, y_train, loss_fn, epochs, learning_rate):\n",
    "    optimizer = tf.keras.optimizers.legacy.SGD(learning_rate=learning_rate)\n",
    "    for epoch in range(epochs):\n",
    "        print(f\"Epoch {epoch+1}/{epochs}\")\n",
    "\n",
    "        with tf.GradientTape() as tape:\n",
    "            logits = model(x_train, training=True)\n",
    "            loss_value = loss_fn(y_train, logits)\n",
    "\n",
    "        grads = tape.gradient(loss_value, model.trainable_variables)\n",
    "        optimizer.apply_gradients(zip(grads, model.trainable_variables))"
   ]
  },
  {
   "cell_type": "code",
   "execution_count": 10,
   "id": "ab602d6a",
   "metadata": {},
   "outputs": [
    {
     "name": "stdout",
     "output_type": "stream",
     "text": [
      "Epoch 1/10\n",
      "Epoch 2/10\n",
      "Epoch 3/10\n",
      "Epoch 4/10\n",
      "Epoch 5/10\n",
      "Epoch 6/10\n",
      "Epoch 7/10\n",
      "Epoch 8/10\n",
      "Epoch 9/10\n",
      "Epoch 10/10\n"
     ]
    }
   ],
   "source": [
    "epochs = 10\n",
    "learning_rate = 0.1\n",
    "model_sgd = keras.Model(inputs=inputs, outputs=outputs)\n",
    "\n",
    "\n",
    "sgd_train_model(model_sgd, x_train, y_train, loss, epochs, learning_rate)"
   ]
  },
  {
   "cell_type": "markdown",
   "id": "dd13346e",
   "metadata": {},
   "source": [
    "# Question 6.2\n",
    "The advantages of such a scheme are:\n",
    "- **learning statibility**: using a batch reduces noise in gradient estimation compared to using a single sample (pure SGD), while retaining some beneficial variability compared to batch gradient descent\n",
    "- **faster convergence**: on average, mini-batches provide a reliable estimate of the direction in which to optimize, often enabling faster convergence"
   ]
  },
  {
   "cell_type": "markdown",
   "id": "ec2bb7e0",
   "metadata": {},
   "source": [
    "# Question 6.3"
   ]
  },
  {
   "cell_type": "code",
   "execution_count": 11,
   "id": "4afe3893",
   "metadata": {},
   "outputs": [],
   "source": [
    "def sgd_batch_train_model(model, x_train, y_train, loss_fn, epochs, batch_size, learning_rate):\n",
    "    optimizer = tf.keras.optimizers.legacy.SGD(learning_rate=learning_rate)\n",
    "    for epoch in range(epochs):\n",
    "        print(f\"Epoch {epoch+1}/{epochs}\")\n",
    "        for i in range(0, len(x_train), batch_size):\n",
    "            x_batch = x_train[i:i+batch_size]\n",
    "            y_batch = y_train[i:i+batch_size]\n",
    "\n",
    "            with tf.GradientTape() as tape:\n",
    "                logits = model(x_batch, training=True)\n",
    "                loss_value = loss_fn(y_batch, logits)\n",
    "\n",
    "            grads = tape.gradient(loss_value, model.trainable_variables)\n",
    "            optimizer.apply_gradients(zip(grads, model.trainable_variables))"
   ]
  },
  {
   "cell_type": "code",
   "execution_count": 12,
   "id": "5a569969",
   "metadata": {},
   "outputs": [
    {
     "name": "stdout",
     "output_type": "stream",
     "text": [
      "Epoch 1/10\n",
      "Epoch 2/10\n",
      "Epoch 3/10\n",
      "Epoch 4/10\n",
      "Epoch 5/10\n",
      "Epoch 6/10\n",
      "Epoch 7/10\n",
      "Epoch 8/10\n",
      "Epoch 9/10\n",
      "Epoch 10/10\n"
     ]
    }
   ],
   "source": [
    "epochs = 10\n",
    "batch_size = 64\n",
    "learning_rate = 0.1\n",
    "model_sgd_batch = keras.Model(inputs=inputs, outputs=outputs)\n",
    "\n",
    "sgd_batch_train_model(model_sgd_batch, x_train, y_train, loss, epochs, batch_size, learning_rate)"
   ]
  },
  {
   "cell_type": "markdown",
   "id": "df6abfcc",
   "metadata": {},
   "source": [
    "# Question 7.1"
   ]
  },
  {
   "cell_type": "code",
   "execution_count": 13,
   "id": "311ac488",
   "metadata": {},
   "outputs": [
    {
     "name": "stdout",
     "output_type": "stream",
     "text": [
      "Accuracy on training set: 97.8933334350586%\n",
      "Accuracy on test set: 96.85999751091003%\n"
     ]
    }
   ],
   "source": [
    "x_test = test_data[0].reshape(-1, 784).astype(float) / 255\n",
    "y_test = test_data[1]\n",
    "\n",
    "model_sgd_batch.compile(\n",
    "    optimizer='sgd',\n",
    "    loss='sparse_categorical_crossentropy',\n",
    "    metrics=['accuracy']\n",
    ")\n",
    "\n",
    "train_loss, train_accuracy = model_sgd_batch.evaluate(x_train, y_train, verbose=0)\n",
    "print(f\"Accuracy on training set: {train_accuracy * 100}%\")\n",
    "\n",
    "test_loss, test_accuracy = model_sgd_batch.evaluate(x_test, y_test, verbose=0)\n",
    "print(f\"Accuracy on test set: {test_accuracy * 100}%\")"
   ]
  }
 ],
 "metadata": {
  "kernelspec": {
   "display_name": "Python 3",
   "language": "python",
   "name": "python3"
  },
  "language_info": {
   "codemirror_mode": {
    "name": "ipython",
    "version": 3
   },
   "file_extension": ".py",
   "mimetype": "text/x-python",
   "name": "python",
   "nbconvert_exporter": "python",
   "pygments_lexer": "ipython3",
   "version": "3.11.1"
  }
 },
 "nbformat": 4,
 "nbformat_minor": 5
}
