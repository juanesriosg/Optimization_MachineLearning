{
 "cells": [
  {
   "cell_type": "markdown",
   "metadata": {},
   "source": [
    "### TP SD TSIA 211\n",
    "\n",
    "Welcome to Paname T ́el ́ecom ! You have been recently hired by this young company that would like to become a challenger in the competitive field of data centers. In order to gain quick knowledge on how to run a data center efficiently, our team of hackers has used a security breach to steal some data from a well known data center. On e-campus, you will be able to download the files data center data matrix.npy and data center helper.py that contain the data and basic operations that can be done on them.\n",
    "The data is composed of measurements with a roughly two-hour sampling rate together with 4 key performance indicators (KPIs). However, we were not able to get the formula that gives the indicators as a function of the data. Your mission is thus to reverse-engineer the performance indicator. We conjecture that they can be written as a ratio of affine transforms of the raw data, subject to some noise.\n",
    "This gives the following model for the KPI number i at time t :\n",
    "\n",
    "$$\n",
    "\n",
    "y_i(t)=\\frac{w_{i,1}^T x(t) + w_{i,0} + \\epsilon_i(t)}{w_{i,2}^T x(t) + 1}"
   ]
  },
  {
   "cell_type": "markdown",
   "metadata": {},
   "source": [
    "$\\textbf{Question 3.1 :}$\n",
    "\n",
    "Si $(Aw)_t = b_t$, alors $\\forall t$:\n",
    "\n",
    "$$\n",
    "\\tilde{x}(t)^T w_1 + w_0 - y(t) \\times \\tilde{x}(t)^T w_2 = y(t)\n",
    "\\\\\n",
    "<=> \\tilde{x}(t)^T w_1 + w_0 = y(t) (1 + \\tilde{x}(t)^T w_2)\n",
    "$$\n",
    "Soit : \n",
    "$$\n",
    "y(t) = \\frac{\\tilde{x}(t)^T w_1 + w_0 }{\\tilde{x}(t)^T w_2 + 1}\n",
    "$$\n",
    "Comme y et w_0 sont des scalaires, ils sont invariants par transposés d'où le résultat.\n"
   ]
  },
  {
   "cell_type": "markdown",
   "metadata": {},
   "source": [
    "$\\textbf{Question 3.2 :}$"
   ]
  },
  {
   "cell_type": "code",
   "execution_count": 2,
   "metadata": {},
   "outputs": [],
   "source": [
    "import numpy as np\n",
    "import matplotlib.pyplot as plt\n",
    "\n",
    "# Loading data\n",
    "\n",
    "data_matrix_train, COP_train, data_matrix_test, COP_test, names = np.load('data_center_data_matrix.npy', allow_pickle=True)\n",
    "\n",
    "# Constructing matrices for min_w ||A w - b||_2**2\n",
    "\n",
    "matrix_mean = np.mean(data_matrix_train, axis=0)\n",
    "M = data_matrix_train - matrix_mean\n",
    "matrix_std = np.std(M, axis=0)\n",
    "M = M / matrix_std\n",
    "\n",
    "A = np.hstack([M, np.ones((M.shape[0],1)), -(M.T * COP_train[:,3]).T])\n",
    "b = COP_train[:,3]\n",
    "\n",
    "# Constructing matrices for the test set\n",
    "\n",
    "M_test = (data_matrix_test - matrix_mean) / matrix_std\n",
    "A_test = np.hstack([M_test, np.ones((M_test.shape[0],1)), -(M_test.T * COP_test[:,3]).T])\n",
    "b_test = COP_test[:,3]\n",
    "\n",
    "\n",
    "# Loading raw data\n",
    "import pandas as pd\n",
    "data = pd.read_csv('Raw_Dataset_May.csv')\n",
    "\n",
    "def name_to_subcategory_and_details(col_name):\n",
    "    if np.isreal(col_name):\n",
    "        col_name = names[col_name]\n",
    "    indices = np.nonzero((data['NAME'] == col_name).values)[0]\n",
    "    if len(indices) > 0:\n",
    "        subcategory = data['SUBCATEGORY'].iloc[[indices[0]]].values[0]\n",
    "        details = data['DETAILS'].iloc[[indices[0]]].values[0]\n",
    "        return subcategory, details\n",
    "    else:\n",
    "        print('unknown name')"
   ]
  },
  {
   "cell_type": "code",
   "execution_count": 3,
   "metadata": {},
   "outputs": [
    {
     "name": "stdout",
     "output_type": "stream",
     "text": [
      "solution:  [-0.00927821  0.08309371 -0.03672704 ...  0.01980595 -0.03057174\n",
      " -0.01188614]\n"
     ]
    }
   ],
   "source": [
    "w, residuals, rank, s = np.linalg.lstsq(A, b, rcond=None)\n",
    "\n",
    "print(\"solution: \", w)\n"
   ]
  },
  {
   "cell_type": "markdown",
   "metadata": {},
   "source": [
    "$\\textbf{Question 3.3 :}$"
   ]
  },
  {
   "cell_type": "code",
   "execution_count": 4,
   "metadata": {},
   "outputs": [
    {
     "name": "stdout",
     "output_type": "stream",
     "text": [
      "MSE test:  780.8984793523563\n"
     ]
    }
   ],
   "source": [
    "\n",
    "MSE_test = np.mean((A_test @ w - b_test)**2)\n",
    "print(\"MSE test: \", MSE_test)\n"
   ]
  },
  {
   "cell_type": "markdown",
   "metadata": {},
   "source": [
    "L'erreur est grande."
   ]
  },
  {
   "cell_type": "markdown",
   "metadata": {},
   "source": [
    "$\\textbf{Question 3.4 :}$"
   ]
  },
  {
   "cell_type": "code",
   "execution_count": 5,
   "metadata": {},
   "outputs": [
    {
     "name": "stdout",
     "output_type": "stream",
     "text": [
      "Unregularized MSE: 780.8984793523563\n",
      "Regularized MSE: 301.0548280896588\n"
     ]
    }
   ],
   "source": [
    "lambda_reg = 100\n",
    "\n",
    "I = np.identity(A.shape[1])\n",
    "\n",
    "w_ridge = np.linalg.inv(A.T @ A + lambda_reg * I) @ A.T @ b\n",
    "\n",
    "\n",
    "b_pred_reg = A_test @ w_ridge\n",
    "\n",
    "\n",
    "mse_reg = np.mean((b_test - b_pred_reg)**2)\n",
    "\n",
    "print(\"Unregularized MSE:\", MSE_test)\n",
    "print(\"Regularized MSE:\", mse_reg)"
   ]
  },
  {
   "cell_type": "markdown",
   "metadata": {},
   "source": [
    "$\\textbf{Question 3.5 :}$\n",
    "\n",
    "$$ \\frac{1}{2} ||Aw-b||^2 = \\frac{1}{2} (Aw-b)^T (Aw-b) \n",
    "\n",
    "\n",
    "\\\\ grad(f_1)(w) = A^T(Aw-b) + \\lambda w\n",
    "$$\n",
    "\n",
    "\n"
   ]
  },
  {
   "cell_type": "markdown",
   "metadata": {},
   "source": [
    "$\\textbf{Question 3.6 :}$\n",
    "\n"
   ]
  },
  {
   "cell_type": "code",
   "execution_count": 100,
   "metadata": {},
   "outputs": [
    {
     "name": "stderr",
     "output_type": "stream",
     "text": [
      "/var/folders/rd/3n5jlvp5605d5lr0_6vb0ckr0000gn/T/ipykernel_6302/1777075455.py:7: RuntimeWarning: overflow encountered in matmul\n",
      "  grad = A.T @ (A @ w - b) + lambda_reg * w\n"
     ]
    }
   ],
   "source": [
    "\n",
    "def descente(A,b, alpha=1e-2, eps=1, maxIter=10000):\n",
    "    w = np.zeros(A.shape[1])\n",
    "    grad = A.T @ (A @ w - b) + lambda_reg * w \n",
    "    \n",
    "    i=0\n",
    "    while np.linalg.norm(grad)>eps: \n",
    "        grad = A.T @ (A @ w - b) + lambda_reg * w \n",
    "        w = w-alpha*grad \n",
    "        i += 1\n",
    "        \n",
    "        if i > maxIter:\n",
    "            return None \n",
    "    return w,i\n",
    "     \n",
    "w_optimal = descente(A_test, b_test)\n"
   ]
  },
  {
   "cell_type": "code",
   "execution_count": 101,
   "metadata": {},
   "outputs": [
    {
     "name": "stdout",
     "output_type": "stream",
     "text": [
      "Optimal w: (array([inf, inf, nan, ..., nan, nan, inf]), 50)\n"
     ]
    },
    {
     "name": "stderr",
     "output_type": "stream",
     "text": [
      "/var/folders/rd/3n5jlvp5605d5lr0_6vb0ckr0000gn/T/ipykernel_6302/1777075455.py:7: RuntimeWarning: overflow encountered in matmul\n",
      "  grad = A.T @ (A @ w - b) + lambda_reg * w\n",
      "/var/folders/rd/3n5jlvp5605d5lr0_6vb0ckr0000gn/T/ipykernel_6302/1777075455.py:7: RuntimeWarning: invalid value encountered in matmul\n",
      "  grad = A.T @ (A @ w - b) + lambda_reg * w\n"
     ]
    }
   ],
   "source": [
    "w_optimal = descente(A_test, b_test, w_ridge)\n",
    "print(\"Optimal w:\", w_optimal)"
   ]
  },
  {
   "cell_type": "markdown",
   "metadata": {},
   "source": [
    "$\\textbf{Question 4.1 :}$\n",
    "\n",
    "$ f_2(w) = \\frac{1}{2} ||Aw-b||^2 $\n",
    "\n",
    "$ g_2(w) = \\lambda ||w||_1 $\n",
    "\n",
    "Et on a : $ grad(f_2)(w) = A^T(Aw-b) $\n",
    "\n",
    "Ainsi que : $\\text{prox}_{\\lambda g_2}(w_i) = \\text{sign}(w_i) \\cdot \\max(|w_i| - \\lambda, 0) \\quad \\text{pour tout } i $\n",
    "\n"
   ]
  },
  {
   "cell_type": "code",
   "execution_count": 105,
   "metadata": {},
   "outputs": [
    {
     "name": "stderr",
     "output_type": "stream",
     "text": [
      "/var/folders/rd/3n5jlvp5605d5lr0_6vb0ckr0000gn/T/ipykernel_6302/1198246529.py:11: RuntimeWarning: invalid value encountered in matmul\n",
      "  gradient = A.T @ (A @ w - b)\n"
     ]
    },
    {
     "name": "stdout",
     "output_type": "stream",
     "text": [
      "[nan nan nan ... nan nan nan]\n"
     ]
    }
   ],
   "source": [
    "def prox_g2(w,lamb):\n",
    "    for i in range(w.shape[0]):\n",
    "        w[i] = np.sign(w[i]) * max(np.abs(w[i]) - lamb, 0)\n",
    "    return w\n",
    "\n",
    "\n",
    "def proximal_gradient_descent(A, b, lambda_val, alpha, max_iterations=1000):\n",
    "    m, n = A.shape\n",
    "    w = np.zeros(n)  \n",
    "    for iteration in range(max_iterations):\n",
    "        gradient = A.T @ (A @ w - b)\n",
    "        w_new = prox_g2(w - alpha * gradient, alpha * lambda_val)\n",
    "        \n",
    "        if np.linalg.norm(w_new - w) < 1e-3:\n",
    "            break\n",
    "        w = w_new\n",
    "\n",
    "    return w\n",
    "\n",
    "lambda_val = 200\n",
    "alpha = 0.001\n",
    "\n",
    "w_optimal = proximal_gradient_descent(A, b, lambda_val, alpha)\n",
    "print(w_optimal)\n",
    "    "
   ]
  }
 ],
 "metadata": {
  "kernelspec": {
   "display_name": "base",
   "language": "python",
   "name": "python3"
  },
  "language_info": {
   "codemirror_mode": {
    "name": "ipython",
    "version": 3
   },
   "file_extension": ".py",
   "mimetype": "text/x-python",
   "name": "python",
   "nbconvert_exporter": "python",
   "pygments_lexer": "ipython3",
   "version": "3.11.5"
  }
 },
 "nbformat": 4,
 "nbformat_minor": 2
}
